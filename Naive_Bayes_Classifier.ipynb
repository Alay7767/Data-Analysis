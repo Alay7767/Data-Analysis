{
 "cells": [
  {
   "cell_type": "code",
   "execution_count": 1,
   "id": "cd7f55db-8ac1-404d-b192-1e9a56951ffd",
   "metadata": {},
   "outputs": [],
   "source": [
    "from sklearn.datasets import load_svmlight_file\n",
    "from sklearn.model_selection import train_test_split, GridSearchCV\n",
    "from sklearn.naive_bayes import GaussianNB\n",
    "from sklearn.pipeline import make_pipeline\n",
    "from sklearn.preprocessing import StandardScaler\n",
    "from sklearn.tree import DecisionTreeClassifier\n",
    "from sklearn.svm import SVC\n",
    "X, y = load_svmlight_file(\"C:\\\\Users\\\\alayp\\\\Downloads\\\\a1a.txt\")\n",
    "X_dense = X.todense().A\n",
    "X_train, X_test, y_train, y_test = train_test_split(X_dense, y, test_size=0.3, random_state=0)"
   ]
  },
  {
   "cell_type": "code",
   "execution_count": 2,
   "id": "98cdef57-4e0e-4b42-bee3-22a69a80b642",
   "metadata": {},
   "outputs": [
    {
     "name": "stdout",
     "output_type": "stream",
     "text": [
      "Using Gaussian Naive Bayes classifier Accuracy is: 0.3568\n"
     ]
    }
   ],
   "source": [
    "p = make_pipeline(StandardScaler(), GaussianNB())\n",
    "p.fit(X_train, y_train)\n",
    "Acc = p.score(X_test, y_test)\n",
    "print(f\"Using Gaussian Naive Bayes classifier Accuracy is: {Acc:.4f}\")"
   ]
  },
  {
   "cell_type": "code",
   "execution_count": 3,
   "id": "e71eb609-6a9a-4c4a-b26d-3a7665f5625b",
   "metadata": {},
   "outputs": [
    {
     "name": "stdout",
     "output_type": "stream",
     "text": [
      "Best parameters for Decision Tree: {'decisiontreeclassifier__criterion': 'gini', 'decisiontreeclassifier__max_depth': 10}\n",
      "Best training accuracy: 0.7863\n",
      "Using Decision Tree Classifier accuracy is: 0.8112\n"
     ]
    }
   ],
   "source": [
    "dtP = make_pipeline(StandardScaler(), DecisionTreeClassifier(random_state=0))\n",
    "\n",
    "calculationMetrics = {\n",
    "    'decisiontreeclassifier__criterion': ['gini', 'entropy'],\n",
    "    'decisiontreeclassifier__max_depth': [10, 50, 100]\n",
    "}\n",
    "\n",
    "gridS = GridSearchCV(dtP, calculationMetrics, cv=5)\n",
    "gridS.fit(X_train, y_train)\n",
    "\n",
    "print(\"Best parameters for Decision Tree:\", gridS.best_params_)\n",
    "print(f\"Best training accuracy: {gridS.best_score_:.4f}\")\n",
    "\n",
    "Acc = gridS.best_estimator_.score(X_test, y_test)\n",
    "print(f\"Using Decision Tree Classifier accuracy is: {Acc:.4f}\")"
   ]
  },
  {
   "cell_type": "code",
   "execution_count": 4,
   "id": "eb0805e5-8c37-4049-a83f-23f5c3cc348f",
   "metadata": {},
   "outputs": [
    {
     "name": "stdout",
     "output_type": "stream",
     "text": [
      "Best parameters for SVM: {'svc__degree': 2, 'svc__gamma': 0.001, 'svc__kernel': 'linear'}\n",
      "Best training accuracy: 0.8299\n",
      "Using SVM Classifier accuracy is: 0.8050\n"
     ]
    }
   ],
   "source": [
    "svmP = make_pipeline(StandardScaler(), SVC(random_state=0))\n",
    "\n",
    "svmParameters = {\n",
    "    'svc__kernel': ['linear', 'poly', 'rbf'],\n",
    "    'svc__degree': [2, 3],\n",
    "    'svc__gamma': [0.001, 0.1, 2]\n",
    "}\n",
    "\n",
    "svmGridS = GridSearchCV(svmP, svmParameters, cv=5)\n",
    "svmGridS.fit(X_train, y_train)\n",
    "\n",
    "print(\"Best parameters for SVM:\", svmGridS.best_params_)\n",
    "print(f\"Best training accuracy: {svmGridS.best_score_:.4f}\")\n",
    "\n",
    "BestModel = svmGridS.best_estimator_\n",
    "Acc = BestModel.score(X_test, y_test)\n",
    "print(f\"Using SVM Classifier accuracy is: {Acc:.4f}\")"
   ]
  },
  {
   "cell_type": "code",
   "execution_count": 5,
   "id": "66d0f8ef-663c-4f9c-8a61-337902aa8b23",
   "metadata": {},
   "outputs": [],
   "source": [
    "# \"Which classifier and parameter values gave the highest accuracy?\"\n",
    "# \"The SVM Classifier gives highest and best accuracy\""
   ]
  },
  {
   "cell_type": "code",
   "execution_count": null,
   "id": "65efb2aa-c645-4274-974e-f53d42f68923",
   "metadata": {},
   "outputs": [],
   "source": []
  }
 ],
 "metadata": {
  "kernelspec": {
   "display_name": "Python 3 (ipykernel)",
   "language": "python",
   "name": "python3"
  },
  "language_info": {
   "codemirror_mode": {
    "name": "ipython",
    "version": 3
   },
   "file_extension": ".py",
   "mimetype": "text/x-python",
   "name": "python",
   "nbconvert_exporter": "python",
   "pygments_lexer": "ipython3",
   "version": "3.12.7"
  }
 },
 "nbformat": 4,
 "nbformat_minor": 5
}
