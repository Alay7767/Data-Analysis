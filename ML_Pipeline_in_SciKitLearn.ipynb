{
 "cells": [
  {
   "cell_type": "code",
   "execution_count": 25,
   "id": "b926a2e0-0031-4815-8902-f2dd8cb84776",
   "metadata": {},
   "outputs": [],
   "source": [
    "# Part 1\n",
    "\n",
    "from sklearn.datasets import load_svmlight_file\n",
    "from sklearn.preprocessing import StandardScaler\n",
    "from sklearn.tree import DecisionTreeClassifier\n",
    "from sklearn.pipeline import make_pipeline\n",
    "from sklearn.model_selection import cross_val_score\n",
    "import numpy as AP"
   ]
  },
  {
   "cell_type": "code",
   "execution_count": 20,
   "id": "f2b7f4e4-d145-46f5-8c5e-ec01e4ff42ee",
   "metadata": {},
   "outputs": [
    {
     "name": "stdout",
     "output_type": "stream",
     "text": [
      "Average Classification Accuracy: 0.7953\n"
     ]
    }
   ],
   "source": [
    "X, y = load_svmlight_file(\"C:\\\\Users\\\\alayp\\\\Downloads\\\\a9a.txt\")\n",
    "\n",
    "Xd = X.todense().A  # <- This is the fix!\n",
    "\n",
    "S = StandardScaler()\n",
    "DT = DecisionTreeClassifier()\n",
    "p = make_pipeline(S, DT)\n",
    "\n",
    "s = cross_val_score(p, Xd, y, cv=5)\n",
    "\n",
    "print(f\"Average Classification Accuracy: {AP.mean(s):.4f}\")"
   ]
  },
  {
   "cell_type": "code",
   "execution_count": 21,
   "id": "b779fcd9-063a-4529-91e6-88e025aec7dd",
   "metadata": {},
   "outputs": [
    {
     "name": "stdout",
     "output_type": "stream",
     "text": [
      "Best Parameters: {'decisiontreeclassifier__criterion': 'entropy', 'decisiontreeclassifier__max_depth': 10}\n",
      "Best Accuracy: 0.8350\n"
     ]
    }
   ],
   "source": [
    "# Part 2:\n",
    "\n",
    "from sklearn.model_selection import GridSearchCV\n",
    "\n",
    "pGrid = {\n",
    "    'decisiontreeclassifier__criterion': ['gini', 'entropy'],\n",
    "    'decisiontreeclassifier__max_depth': [5, 10, 15, 20]\n",
    "}\n",
    "\n",
    "grS = GridSearchCV(estimator=p,\n",
    "                           param_grid=pGrid,\n",
    "                           cv=5,\n",
    "                           scoring='accuracy',\n",
    "                           n_jobs=-1)\n",
    "\n",
    "gS.fit(Xd y)\n",
    "\n",
    "print(\"Best Parameters:\", gS.best_params_)\n",
    "print(f\"Best Accuracy: {gS.best_score_:.4f}\")"
   ]
  },
  {
   "cell_type": "code",
   "execution_count": 22,
   "id": "e4a11193-8d88-4837-a0f6-b72c5277b101",
   "metadata": {},
   "outputs": [],
   "source": [
    "# Part 3\n",
    "\n",
    "from sklearn.datasets import load_svmlight_file\n",
    "from sklearn.pipeline import Pipeline\n",
    "from sklearn.metrics import accuracy_score\n",
    "\n",
    "Xs, y = load_svmlight_file(\"C:\\\\Users\\\\alayp\\\\Downloads\\\\a9a.txt\")\n",
    "\n",
    "X = Xs.todense().A"
   ]
  },
  {
   "cell_type": "code",
   "execution_count": 23,
   "id": "16b570f6-40c3-4af8-b2d2-3297978a6946",
   "metadata": {},
   "outputs": [],
   "source": [
    "from sklearn.model_selection import train_test_split\n",
    "X_train, X_test, y_train, y_test = train_test_split(X, y, test_size=0.2, random_state=42)"
   ]
  },
  {
   "cell_type": "code",
   "execution_count": 24,
   "id": "3272e9b4-34b6-4844-8237-7aa9358b4b78",
   "metadata": {},
   "outputs": [
    {
     "name": "stdout",
     "output_type": "stream",
     "text": [
      "Best Parameters: {'classifier__criterion': 'gini', 'classifier__max_depth': 10}\n",
      "Test Accuracy with Best Model: 0.8357\n"
     ]
    }
   ],
   "source": [
    "p = Pipeline([('scaler', SS), ('classifier', DT)])\n",
    "\n",
    "pG = {\n",
    "    'classifier__criterion': ['gini', 'entropy'],\n",
    "    'classifier__max_depth': [5, 10, 15, 20]\n",
    "}\n",
    "\n",
    "gS = GridSearchCV(p, pG, cv=5, scoring='accuracy', n_jobs=-1)\n",
    "\n",
    "gS.fit(X_train, y_train)\n",
    "\n",
    "bM = gS.best_estimator_\n",
    "\n",
    "y_pred = bM.predict(X_test)\n",
    "\n",
    "test_accuracy = accuracy_score(y_test, y_pred)\n",
    "print(\"Best Parameters:\", gS.best_params_)\n",
    "print(f\"Test Accuracy with Best Model: {test_accuracy:.4f}\")"
   ]
  },
  {
   "cell_type": "code",
   "execution_count": null,
   "id": "0bb34dac-2b02-48e8-b4c3-e9c82e384909",
   "metadata": {},
   "outputs": [],
   "source": []
  }
 ],
 "metadata": {
  "kernelspec": {
   "display_name": "Python 3 (ipykernel)",
   "language": "python",
   "name": "python3"
  },
  "language_info": {
   "codemirror_mode": {
    "name": "ipython",
    "version": 3
   },
   "file_extension": ".py",
   "mimetype": "text/x-python",
   "name": "python",
   "nbconvert_exporter": "python",
   "pygments_lexer": "ipython3",
   "version": "3.12.7"
  }
 },
 "nbformat": 4,
 "nbformat_minor": 5
}
