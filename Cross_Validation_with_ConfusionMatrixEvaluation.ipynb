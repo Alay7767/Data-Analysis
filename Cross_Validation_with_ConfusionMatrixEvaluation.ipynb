{
 "cells": [
  {
   "cell_type": "code",
   "execution_count": 1,
   "id": "2661499c-3ba6-4b13-893f-d84915111bf0",
   "metadata": {},
   "outputs": [
    {
     "name": "stdout",
     "output_type": "stream",
     "text": [
      "Loading Dataset...\n",
      "Creating classifier object...\n",
      "Training classifier with cross validation, k=5\n",
      "Training Complete!\n",
      "Cross Validation Mean Accuracy = 0.85\n",
      "Standard Deviation of the Mean Accuracy = 0.00\n"
     ]
    }
   ],
   "source": [
    "from sklearn.datasets import load_svmlight_file\n",
    "from sklearn import svm\n",
    "from sklearn.model_selection import cross_val_score \n",
    "\n",
    "print(\"Loading Dataset...\")\n",
    "X, y = load_svmlight_file(\"C:\\\\Users\\\\alayp\\\\Downloads\\\\a9a.txt\")  \n",
    "print(\"Creating classifier object...\")\n",
    "clf = svm.SVC(kernel=\"linear\", C=1, random_state=42) \n",
    "\n",
    "print(\"Training classifier with cross validation, k=5\")\n",
    "s = cross_val_score(clf, X, y, cv=5)\n",
    "print(\"Training Complete!\")\n",
    "\n",
    "a = s.mean() \n",
    "std = s.std()\n",
    "print(\"Cross Validation Mean Accuracy = %0.2f\" % a)\n",
    "print(\"Standard Deviation of the Mean Accuracy = %0.2f\" % std)"
   ]
  },
  {
   "cell_type": "code",
   "execution_count": 2,
   "id": "6a6a2603-5f22-4c2e-a83f-f9f484f155c7",
   "metadata": {},
   "outputs": [
    {
     "name": "stdout",
     "output_type": "stream",
     "text": [
      "Confusion Matrix:\n",
      " [[22942  1778]\n",
      " [ 3194  4647]]\n"
     ]
    }
   ],
   "source": [
    "from sklearn.model_selection import cross_val_predict\n",
    "from sklearn.metrics import confusion_matrix\n",
    "clf1 = svm.SVC(kernel='linear', C=1, random_state=42)\n",
    "\n",
    "y_pred = cross_val_predict(clf1, X, y, cv=5)\n",
    "\n",
    "cm = confusion_matrix(y, y_pred)\n",
    "print(\"Confusion Matrix:\\n\", cm)"
   ]
  },
  {
   "cell_type": "code",
   "execution_count": 4,
   "id": "34f3e695-5e1d-43da-8fcb-5551458ef333",
   "metadata": {},
   "outputs": [
    {
     "name": "stdout",
     "output_type": "stream",
     "text": [
      "Confusion Matrix  where RBF, gamma=0.1 :\n",
      " [[22987  1733]\n",
      " [ 3263  4578]]\n"
     ]
    }
   ],
   "source": [
    "clf2 = svm.SVC(kernel='rbf', gamma=0.1, C=1, random_state=42)\n",
    "\n",
    "y_pred1 = cross_val_predict(clf2, X, y, cv=5)\n",
    "\n",
    "cm1 = confusion_matrix(y, y_pred1)\n",
    "print(\"Confusion Matrix  where RBF, gamma=0.1 :\\n\", cm1)"
   ]
  },
  {
   "cell_type": "code",
   "execution_count": 5,
   "id": "5fdc5908-5e2e-43f7-9051-214d46792fe4",
   "metadata": {},
   "outputs": [
    {
     "name": "stdout",
     "output_type": "stream",
     "text": [
      "Confusion Matrix where RBF, gamma=0.01 :\n",
      " [[23082  1638]\n",
      " [ 3429  4412]]\n"
     ]
    }
   ],
   "source": [
    "clf3 = svm.SVC(kernel='rbf', gamma=0.01, C=1, random_state=42)\n",
    "\n",
    "y_pred2 = cross_val_predict(clf3, X, y, cv=5)\n",
    "\n",
    "cm2 = confusion_matrix(y, y_pred2)\n",
    "print(\"Confusion Matrix where RBF, gamma=0.01 :\\n\", cm2)"
   ]
  },
  {
   "cell_type": "code",
   "execution_count": 6,
   "id": "3520ba73-86ec-45d8-9d42-ccda1b06f7be",
   "metadata": {},
   "outputs": [
    {
     "name": "stdout",
     "output_type": "stream",
     "text": [
      "Confusion Matrix where Polynomial, degree=2 :\n",
      " [[23054  1666]\n",
      " [ 3284  4557]]\n"
     ]
    }
   ],
   "source": [
    "clf4 = svm.SVC(kernel='poly', degree=2, C=1, random_state=42)\n",
    "\n",
    "y_pred3 = cross_val_predict(clf4, X, y, cv=5)\n",
    "\n",
    "cm3 = confusion_matrix(y, y_pred3)\n",
    "print(\"Confusion Matrix where Polynomial, degree=2 :\\n\", cm3)"
   ]
  },
  {
   "cell_type": "code",
   "execution_count": 7,
   "id": "6672bb66-cee0-4ceb-b216-901189541083",
   "metadata": {},
   "outputs": [
    {
     "name": "stdout",
     "output_type": "stream",
     "text": [
      "TPR : 0.5927\n",
      "TNR : 0.9281\n",
      "Precision : 0.7233\n",
      "Recall : 0.5927\n",
      "F1-Score : 0.6515\n"
     ]
    }
   ],
   "source": [
    "from sklearn.metrics import confusion_matrix, precision_score, recall_score, f1_score\n",
    "\n",
    "TN, FP, FN, TP = cm.ravel()\n",
    "\n",
    "TPR = TP / (TP + FN)\n",
    "TNR = TN / (TN + FP)\n",
    "Precision = precision_score(y, y_pred)\n",
    "Recall = recall_score(y, y_pred)\n",
    "F1 = f1_score(y, y_pred)\n",
    "\n",
    "print(f\"TPR : {TPR:.4f}\")\n",
    "print(f\"TNR : {TNR:.4f}\")\n",
    "print(f\"Precision : {Precision:.4f}\")\n",
    "print(f\"Recall : {Recall:.4f}\")\n",
    "print(f\"F1-Score : {F1:.4f}\")"
   ]
  },
  {
   "cell_type": "code",
   "execution_count": 8,
   "id": "60eadd4c-41cf-478e-aef3-5dad5693abcb",
   "metadata": {},
   "outputs": [
    {
     "name": "stdout",
     "output_type": "stream",
     "text": [
      "Creating classifier object...\n",
      "Training classifier with cross validation, k=5\n",
      "Training Complete!\n",
      "TPR : 0.58\n",
      "TNR : 0.93\n",
      "Precision: 0.73\n",
      "Recall: 0.58\n",
      "F1-Score: 0.65\n"
     ]
    }
   ],
   "source": [
    "# kernel is RBF and gamma is 0.1\n",
    "print(\"Creating classifier object...\")\n",
    "clf5 = svm.SVC(kernel='rbf', gamma=0.1, C=1, random_state= 42)\n",
    "print(\"Training classifier with cross validation, k=5\")\n",
    "yPredict = cross_val_predict(clf5, X, y, cv=5)\n",
    "print(\"Training Complete!\")\n",
    "confusionMatrix = confusion_matrix(y, yPredict)\n",
    "TN, FP, FN, TP = confusionMatrix.ravel()\n",
    "TPR = TP / (TP + FN)\n",
    "TNR = TN / (TN + FP)\n",
    "Precision = precision_score(y, yPredict)\n",
    "Recall = recall_score(y, yPredict)\n",
    "F1 = f1_score(y, yPredict)\n",
    "print(f\"TPR : {TPR:.2f}\")\n",
    "print(f\"TNR : {TNR:.2f}\")\n",
    "print(f\"Precision: {Precision:.2f}\")\n",
    "print(f\"Recall: {Recall:.2f}\")\n",
    "print(f\"F1-Score: {F1:.2f}\")"
   ]
  },
  {
   "cell_type": "code",
   "execution_count": 9,
   "id": "2d7465df-aeb7-440f-8099-ce4d3ec6d0a0",
   "metadata": {},
   "outputs": [
    {
     "name": "stdout",
     "output_type": "stream",
     "text": [
      "Creating classifier object...\n",
      "Training classifier with cross validation, k=5\n",
      "Training Complete!\n",
      "TPR : 0.56\n",
      "TNR : 0.93\n",
      "Precision: 0.73\n",
      "Recall: 0.56\n",
      "F1-Score: 0.64\n"
     ]
    }
   ],
   "source": [
    "# kernel is RBF and gamma is 0.01\n",
    "print(\"Creating classifier object...\")\n",
    "clf6 = svm.SVC(kernel='rbf', gamma=0.01, C=1, random_state= 42)\n",
    "print(\"Training classifier with cross validation, k=5\")\n",
    "yPredict1 = cross_val_predict(clf6, X, y, cv=5)\n",
    "print(\"Training Complete!\")\n",
    "confusionMatrix = confusion_matrix(y, yPredict1)\n",
    "TN, FP, FN, TP = confusionMatrix.ravel()\n",
    "TPR = TP / (TP + FN)\n",
    "TNR = TN / (TN + FP)\n",
    "Precision = precision_score(y, yPredict1)\n",
    "Recall = recall_score(y, yPredict1)\n",
    "F1 = f1_score(y, yPredict1)\n",
    "print(f\"TPR : {TPR:.2f}\")\n",
    "print(f\"TNR : {TNR:.2f}\")\n",
    "print(f\"Precision: {Precision:.2f}\")\n",
    "print(f\"Recall: {Recall:.2f}\")\n",
    "print(f\"F1-Score: {F1:.2f}\")"
   ]
  },
  {
   "cell_type": "code",
   "execution_count": 10,
   "id": "111637e4-8ce6-4a29-9ffc-b3bb64de0f71",
   "metadata": {},
   "outputs": [
    {
     "name": "stdout",
     "output_type": "stream",
     "text": [
      "Creating classifier object...\n",
      "Training classifier with cross validation, k=5\n",
      "Training Complete!\n",
      "TPR : 0.58\n",
      "TNR : 0.93\n",
      "Precision: 0.73\n",
      "Recall: 0.58\n",
      "F1-Score: 0.65\n"
     ]
    }
   ],
   "source": [
    "# kernel is polynomial with a degree = 2\n",
    "print(\"Creating classifier object...\")\n",
    "clf7 = svm.SVC(kernel='poly', degree=2, C=1, random_state= 42)\n",
    "print(\"Training classifier with cross validation, k=5\")\n",
    "yPredict2 = cross_val_predict(clf7, X, y, cv=5)\n",
    "print(\"Training Complete!\")\n",
    "confusionMatrix = confusion_matrix(y, yPredict2)\n",
    "TN, FP, FN, TP = confusionMatrix.ravel()\n",
    "TPR = TP / (TP + FN)\n",
    "TNR = TN / (TN + FP)\n",
    "Precision = precision_score(y, yPredict2)\n",
    "Recall = recall_score(y, yPredict2)\n",
    "F1 = f1_score(y, yPredict2)\n",
    "print(f\"TPR : {TPR:.2f}\")\n",
    "print(f\"TNR : {TNR:.2f}\")\n",
    "print(f\"Precision: {Precision:.2f}\")\n",
    "print(f\"Recall: {Recall:.2f}\")\n",
    "print(f\"F1-Score: {F1:.2f}\")"
   ]
  },
  {
   "cell_type": "code",
   "execution_count": null,
   "id": "e9f295b8-adea-4ee4-a191-fcc8127493f1",
   "metadata": {},
   "outputs": [],
   "source": []
  }
 ],
 "metadata": {
  "kernelspec": {
   "display_name": "Python 3 (ipykernel)",
   "language": "python",
   "name": "python3"
  },
  "language_info": {
   "codemirror_mode": {
    "name": "ipython",
    "version": 3
   },
   "file_extension": ".py",
   "mimetype": "text/x-python",
   "name": "python",
   "nbconvert_exporter": "python",
   "pygments_lexer": "ipython3",
   "version": "3.12.7"
  }
 },
 "nbformat": 4,
 "nbformat_minor": 5
}
