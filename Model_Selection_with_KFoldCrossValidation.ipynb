{
 "cells": [
  {
   "cell_type": "code",
   "execution_count": 1,
   "id": "18ad324d-ad0a-4c95-b563-07a789f1352d",
   "metadata": {},
   "outputs": [
    {
     "name": "stdout",
     "output_type": "stream",
     "text": [
      "Cross Validation Mean Accuracy = 0.83\n",
      "Standard Deviation of the Mean Accuracy across all runs = 0.02\n"
     ]
    }
   ],
   "source": [
    "from sklearn.datasets import load_svmlight_file\n",
    "from sklearn import svm\n",
    "from sklearn.model_selection import cross_val_score \n",
    "X,y = load_svmlight_file(\"C:\\\\Assignments\\\\511\\\\a1a.txt\")\n",
    "c = svm.SVC(kernel = \"linear\", C = 1, random_state = 42) \n",
    "s = cross_val_score(c, X, y, cv = 5)\n",
    "a = s.mean() \n",
    "std = s.std()\n",
    "print(\"Cross Validation Mean Accuracy = %0.2f\" % a)\n",
    "print(\"Standard Deviation of the Mean Accuracy across all runs = %0.2f\" % std)"
   ]
  },
  {
   "cell_type": "code",
   "execution_count": 2,
   "id": "6e770e68-4629-4921-a4e3-5082e5bae946",
   "metadata": {},
   "outputs": [
    {
     "name": "stdout",
     "output_type": "stream",
     "text": [
      "Cross Validation Mean Accuracy = 0.83\n",
      "Standard Deviation of the Mean Accuracy across all runs = 0.02\n"
     ]
    }
   ],
   "source": [
    "# Gamma = 0.1\n",
    "c = svm.SVC(kernel = \"linear\", C = 1, random_state = 42, gamma = 0.1) \n",
    "s = cross_val_score(c, X, y, cv = 5)\n",
    "a = s.mean() \n",
    "std = s.std()\n",
    "print(\"Cross Validation Mean Accuracy = %0.2f\" % a )\n",
    "print(\"Standard Deviation of the Mean Accuracy across all runs = %0.2f\" % std)"
   ]
  },
  {
   "cell_type": "code",
   "execution_count": 3,
   "id": "bd0a28c7-1aaa-4255-b455-2f677b6f89b2",
   "metadata": {},
   "outputs": [
    {
     "name": "stdout",
     "output_type": "stream",
     "text": [
      "Cross Validation Mean Accuracy = 0.83\n",
      "Standard Deviation of the Mean Accuracy across all runs = 0.02\n"
     ]
    }
   ],
   "source": [
    "# Gamma = 0.01\n",
    "c = svm.SVC(kernel = \"linear\", C = 1, random_state = 42, gamma = 0.01) \n",
    "s = cross_val_score(c, X, y, cv = 5)\n",
    "a = s.mean() \n",
    "std = s.std()\n",
    "print(\"Cross Validation Mean Accuracy = %0.2f\" % a )\n",
    "print(\"Standard Deviation of the Mean Accuracy across all runs = %0.2f\" % std)"
   ]
  },
  {
   "cell_type": "code",
   "execution_count": 4,
   "id": "17a8be20-29fd-447a-85fb-c88a83dfd785",
   "metadata": {},
   "outputs": [
    {
     "name": "stdout",
     "output_type": "stream",
     "text": [
      "Cross Validation Mean Accuracy = 0.83\n",
      "Standard Deviation of the Mean Accuracy across all runs = 0.02\n"
     ]
    }
   ],
   "source": [
    "# Degree 2\n",
    "c = svm.SVC(kernel = \"linear\", C = 1, random_state = 42, degree = 2) \n",
    "s = cross_val_score(c, X, y, cv = 5)\n",
    "a = s.mean() \n",
    "std = s.std()\n",
    "print(\"Cross Validation Mean Accuracy = %0.2f\" % a )\n",
    "print(\"Standard Deviation of the Mean Accuracy across all runs = %0.2f\" % std)"
   ]
  },
  {
   "cell_type": "code",
   "execution_count": 8,
   "id": "b53027f5-8d57-412a-ba9c-9905f687565f",
   "metadata": {},
   "outputs": [
    {
     "name": "stdout",
     "output_type": "stream",
     "text": [
      "Creating Parameter Grid.\n",
      "Creating classifier object.\n",
      "Creating a grid search cross validator object.\n",
      "Fitting the models with different parameters.\n",
      "Writing all fitting results.\n"
     ]
    }
   ],
   "source": [
    "from sklearn.datasets import load_svmlight_file\n",
    "from sklearn import svm\n",
    "import pandas as AP\n",
    "from sklearn.model_selection import GridSearchCV\n",
    "X,y = load_svmlight_file(\"C:\\\\Assignments\\\\511\\\\a1a.txt\")\n",
    "print(\"Creating Parameter Grid.\")\n",
    "pG = [ \n",
    " {'C': [1, 10], 'kernel': ['linear']}, \n",
    " {'C': [1, 10], 'gamma': [0.001, 0.01], 'kernel': ['rbf']}, \n",
    " ]\n",
    "print(\"Creating classifier object.\")\n",
    "s = svm.SVC()\n",
    "print(\"Creating a grid search cross validator object.\")\n",
    "c = GridSearchCV(s, pG)\n",
    "print(\"Fitting the models with different parameters.\")\n",
    "c.fit(X, y)\n",
    "print(\"Writing all fitting results.\")\n",
    "ap = AP.DataFrame(c.cv_results_)\n",
    "ap.to_csv(\"Parameter_Tuning_Results.csv\")"
   ]
  },
  {
   "cell_type": "code",
   "execution_count": 10,
   "id": "bd1029e0-4f2b-4355-8550-5f3fc1d048c2",
   "metadata": {},
   "outputs": [
    {
     "name": "stdout",
     "output_type": "stream",
     "text": [
      "Loading Dataset.\n",
      "Creating Parameter Grid.\n",
      "Creating classifier object.\n",
      "Creating a grid search cross validator object.\n",
      "Fitting the models with different parameters.\n",
      "Writing all fitting results.\n"
     ]
    }
   ],
   "source": [
    "from sklearn.datasets import load_svmlight_file\n",
    "from sklearn import svm\n",
    "import pandas as AP\n",
    "from sklearn.model_selection import GridSearchCV\n",
    "print(\"Loading Dataset.\")\n",
    "X,y = load_svmlight_file(\"C:\\\\Assignments\\\\511\\\\a1a.txt\")\n",
    "print(\"Creating Parameter Grid.\")\n",
    "pG = [ \n",
    "    {'C': [0.01, 0.1, 1, 10], 'kernel': ['linear']},\n",
    "    {'C': [0.01, 0.1, 1, 10], 'gamma': [0.001, 0.01], 'kernel': ['rbf']}, \n",
    "    {'C': [0.01, 0.1, 1, 10], 'degree': [2, 3], 'kernel': ['poly']}, \n",
    " ]\n",
    "print(\"Creating classifier object.\")\n",
    "s = svm.SVC()\n",
    "print(\"Creating a grid search cross validator object.\")\n",
    "c = GridSearchCV(s, pG)\n",
    "print(\"Fitting the models with different parameters.\")\n",
    "c.fit(X, y)\n",
    "print(\"Writing all fitting results.\")\n",
    "ap = AP.DataFrame(c.cv_results_)\n",
    "ap.to_csv(\"Parameter_Tuning_Result.csv\")"
   ]
  },
  {
   "cell_type": "code",
   "execution_count": 13,
   "id": "641eae09-2c6b-4373-be8f-d405221a899e",
   "metadata": {},
   "outputs": [
    {
     "name": "stdout",
     "output_type": "stream",
     "text": [
      "Loading Dataset.\n",
      "Creating Parameter Grid.\n",
      "Creating classifier object.\n",
      "Creating a grid search cross validator object.\n",
      "Fitting the models with different parameters.\n",
      "Writing all fitting results.\n",
      "Rank 1: {'C': 1, 'degree': 2, 'kernel': 'poly'}, Mean Test Accuracy=0.8317757009345794, Mean StdDev=0.024922118380062308\n",
      "Rank 2: {'C': 0.1, 'kernel': 'linear'}, Mean Test Accuracy=0.8317757009345794, Mean StdDev=0.02094421970588363\n",
      "Rank 3: {'C': 1, 'degree': 3, 'kernel': 'poly'}, Mean Test Accuracy=0.8305295950155763, Mean StdDev=0.025809738538576925\n",
      "Rank 4: {'C': 10, 'kernel': 'linear'}, Mean Test Accuracy=0.8286604361370715, Mean StdDev=0.020092854201367107\n",
      "Rank 5: {'C': 10, 'gamma': 0.01, 'kernel': 'rbf'}, Mean Test Accuracy=0.8274143302180686, Mean StdDev=0.023445342956045834\n",
      "Rank 6: {'C': 1, 'kernel': 'linear'}, Mean Test Accuracy=0.8274143302180684, Mean StdDev=0.020054176871565212\n",
      "Rank 7: {'C': 10, 'gamma': 0.001, 'kernel': 'rbf'}, Mean Test Accuracy=0.8249221183800624, Mean StdDev=0.023593889381634255\n",
      "Rank 8: {'C': 1, 'gamma': 0.01, 'kernel': 'rbf'}, Mean Test Accuracy=0.8230529595015575, Mean StdDev=0.02464014944957656\n",
      "Rank 9: {'C': 0.1, 'degree': 2, 'kernel': 'poly'}, Mean Test Accuracy=0.8137071651090343, Mean StdDev=0.01799318265195471\n",
      "Rank 10: {'C': 0.01, 'kernel': 'linear'}, Mean Test Accuracy=0.8137071651090343, Mean StdDev=0.01412558759969425\n",
      "Rank 11: {'C': 10, 'degree': 2, 'kernel': 'poly'}, Mean Test Accuracy=0.811214953271028, Mean StdDev=0.017017445836445686\n",
      "Rank 12: {'C': 0.1, 'degree': 3, 'kernel': 'poly'}, Mean Test Accuracy=0.8080996884735201, Mean StdDev=0.02172659909552984\n",
      "Rank 13: {'C': 10, 'degree': 3, 'kernel': 'poly'}, Mean Test Accuracy=0.7968847352024921, Mean StdDev=0.01426233413365682\n",
      "Rank 14: {'C': 1, 'gamma': 0.001, 'kernel': 'rbf'}, Mean Test Accuracy=0.7538940809968847, Mean StdDev=0.0\n",
      "Rank 15: {'C': 0.1, 'gamma': 0.01, 'kernel': 'rbf'}, Mean Test Accuracy=0.7538940809968847, Mean StdDev=0.0\n",
      "Rank 16: {'C': 0.01, 'degree': 2, 'kernel': 'poly'}, Mean Test Accuracy=0.7538940809968847, Mean StdDev=0.0\n",
      "Rank 17: {'C': 0.01, 'degree': 3, 'kernel': 'poly'}, Mean Test Accuracy=0.7538940809968847, Mean StdDev=0.0\n",
      "Rank 18: {'C': 0.1, 'gamma': 0.001, 'kernel': 'rbf'}, Mean Test Accuracy=0.7538940809968847, Mean StdDev=0.0\n",
      "Rank 19: {'C': 0.01, 'gamma': 0.01, 'kernel': 'rbf'}, Mean Test Accuracy=0.7538940809968847, Mean StdDev=0.0\n",
      "Rank 20: {'C': 0.01, 'gamma': 0.001, 'kernel': 'rbf'}, Mean Test Accuracy=0.7538940809968847, Mean StdDev=0.0\n"
     ]
    }
   ],
   "source": [
    "from sklearn.datasets import load_svmlight_file\n",
    "from sklearn import svm\n",
    "import pandas as AP\n",
    "from sklearn.model_selection import GridSearchCV\n",
    "print(\"Loading Dataset.\")\n",
    "X,y = load_svmlight_file(\"C:\\\\Assignments\\\\511\\\\a1a.txt\")\n",
    "print(\"Creating Parameter Grid.\")\n",
    "pG = [ \n",
    "    {'C': [0.01, 0.1, 1, 10], 'kernel': ['linear']},\n",
    "    {'C': [0.01, 0.1, 1, 10], 'gamma': [0.001, 0.01], 'kernel': ['rbf']}, \n",
    "    {'C': [0.01, 0.1, 1, 10], 'degree': [2, 3], 'kernel': ['poly']}, \n",
    " ]\n",
    "print(\"Creating classifier object.\")\n",
    "s = svm.SVC()\n",
    "print(\"Creating a grid search cross validator object.\")\n",
    "c = GridSearchCV(s, pG)\n",
    "print(\"Fitting the models with different parameters.\")\n",
    "c.fit(X, y)\n",
    "print(\"Writing all fitting results.\")\n",
    "ap = AP.DataFrame(c.cv_results_)\n",
    "\n",
    "rs = ap[['mean_test_score', 'std_test_score', 'params']].sort_values(by='mean_test_score', ascending=False)\n",
    "\n",
    "for rank, (i, r) in enumerate(rs.iterrows(), start=1):\n",
    "    print(f\"Rank {rank}: {r['params']}, Mean Test Accuracy={r['mean_test_score']}, Mean StdDev={r['std_test_score']}\")"
   ]
  },
  {
   "cell_type": "code",
   "execution_count": null,
   "id": "b502dbd5-f41a-4615-bf45-b02419df28cf",
   "metadata": {},
   "outputs": [],
   "source": []
  }
 ],
 "metadata": {
  "kernelspec": {
   "display_name": "Python 3 (ipykernel)",
   "language": "python",
   "name": "python3"
  },
  "language_info": {
   "codemirror_mode": {
    "name": "ipython",
    "version": 3
   },
   "file_extension": ".py",
   "mimetype": "text/x-python",
   "name": "python",
   "nbconvert_exporter": "python",
   "pygments_lexer": "ipython3",
   "version": "3.12.7"
  }
 },
 "nbformat": 4,
 "nbformat_minor": 5
}
